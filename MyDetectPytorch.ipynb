{
  "nbformat": 4,
  "nbformat_minor": 0,
  "metadata": {
    "colab": {
      "name": "MyDetectPytorch.ipynb",
      "provenance": [],
      "authorship_tag": "ABX9TyOq+McHiDBAEtBG7tbeG6MM",
      "include_colab_link": true
    },
    "kernelspec": {
      "name": "python3",
      "display_name": "Python 3"
    },
    "language_info": {
      "name": "python"
    }
  },
  "cells": [
    {
      "cell_type": "markdown",
      "metadata": {
        "id": "view-in-github",
        "colab_type": "text"
      },
      "source": [
        "<a href=\"https://colab.research.google.com/github/pipecode-br/deep_learning_pytorch/blob/main/MyDetectPytorch.ipynb\" target=\"_parent\"><img src=\"https://colab.research.google.com/assets/colab-badge.svg\" alt=\"Open In Colab\"/></a>"
      ]
    },
    {
      "cell_type": "markdown",
      "source": [
        "## Etapa 1- Importar bibliotecas"
      ],
      "metadata": {
        "id": "fkpyNyFzlXqV"
      }
    },
    {
      "cell_type": "code",
      "source": [
        "#Import Pytorch CNN e base de dados\n",
        "import torch\n",
        "import torch.nn as nn\n",
        "from torch import optim\n",
        "\n",
        "# import database\n",
        "from torchvision import datasets\n",
        "import torchvision.transforms as transforms\n",
        "\n",
        "# import utils\n",
        "import numpy as np\n",
        "import matplotlib.pyplot as plt\n",
        "\n",
        "torch.__version__"
      ],
      "metadata": {
        "colab": {
          "base_uri": "https://localhost:8080/",
          "height": 35
        },
        "id": "hEpjcAJLkkx5",
        "outputId": "09f972d0-3e8f-492e-ade8-f7179d1bd844"
      },
      "execution_count": 1,
      "outputs": [
        {
          "output_type": "execute_result",
          "data": {
            "text/plain": [
              "'1.10.0+cu111'"
            ],
            "application/vnd.google.colaboratory.intrinsic+json": {
              "type": "string"
            }
          },
          "metadata": {},
          "execution_count": 1
        }
      ]
    },
    {
      "cell_type": "code",
      "source": [
        "# Sempre o mesmo valores\n",
        "torch.manual_seed(123)"
      ],
      "metadata": {
        "colab": {
          "base_uri": "https://localhost:8080/"
        },
        "id": "ulgbXE90le-V",
        "outputId": "63e3009f-b515-4990-a2ac-b2f02c48dbee"
      },
      "execution_count": 2,
      "outputs": [
        {
          "output_type": "execute_result",
          "data": {
            "text/plain": [
              "<torch._C.Generator at 0x7fc36d66feb0>"
            ]
          },
          "metadata": {},
          "execution_count": 2
        }
      ]
    },
    {
      "cell_type": "code",
      "source": [
        "class Backbone(nn.Module):\n",
        "  def __init__(self):\n",
        "    super().__init__()\n",
        "    self.conv1 = nn.Conv2d(in_channels=1,out_channels=32,kernel_size=(3,3))\n",
        "    self.conv2 = nn.Conv2d(in_channels=32,out_channels=32,kernel_size=(3,3))\n",
        "    self.activation = nn.ReLU()\n",
        "    self.bnorm = nn.BatchNorm2d(num_features=32)\n",
        "    self.pool = nn.MaxPool2d(kernel_size=(2,2))\n",
        "    self.flatten = nn.Flatten()\n",
        "\n",
        "  def forward(self,X):\n",
        "    X = self.pool(self.bnorm(self.activation(self.conv1(X))))\n",
        "    X = self.pool(self.bnorm(self.activation(self.conv2(X))))\n",
        "    X = self.flatten(X)\n",
        "    return X"
      ],
      "metadata": {
        "id": "6kV6wXHr2ltc"
      },
      "execution_count": 3,
      "outputs": []
    },
    {
      "cell_type": "code",
      "source": [
        "class Neck(nn.Module):\n",
        "  def __init__(self):\n",
        "    super().__init__()\n",
        "\n",
        "  def forward(self,X):\n",
        "    return X,X,X"
      ],
      "metadata": {
        "id": "t7BK-XMyyy_x"
      },
      "execution_count": 4,
      "outputs": []
    },
    {
      "cell_type": "code",
      "source": [
        "class Detect(nn.Module):\n",
        "  def __init__(self) -> None:\n",
        "      super().__init__()\n",
        "\n",
        "  def forward(self,X,Y,Z):\n",
        "    return X"
      ],
      "metadata": {
        "id": "0NT9vOvw3ooc"
      },
      "execution_count": 5,
      "outputs": []
    },
    {
      "cell_type": "code",
      "source": [
        "class FiberNeuralNetwork(nn.Module):\n",
        "    def __init__(self) -> None:\n",
        "      super().__init__()\n",
        "      self.backbone = Backbone()\n",
        "      self.neck = Neck()\n",
        "      self.detect= Detect()\n",
        "\n",
        "    def forward(self,X):\n",
        "      X = self.backbone(X)\n",
        "      X,Y,Z= self.neck(X)\n",
        "      X = self.detect(X,Y,Z)\n",
        "      return X"
      ],
      "metadata": {
        "id": "qlVqqE8QzxJH"
      },
      "execution_count": 6,
      "outputs": []
    },
    {
      "cell_type": "code",
      "source": [
        "net2 = FiberNeuralNetwork()\n",
        "\n",
        "from torchsummary import summary\n",
        "\n",
        "summary(net2, (1 , 28, 28))"
      ],
      "metadata": {
        "colab": {
          "base_uri": "https://localhost:8080/"
        },
        "id": "BiOKNOd84WAH",
        "outputId": "bb1a3280-6c6d-4c7b-b004-9da0764db734"
      },
      "execution_count": 7,
      "outputs": [
        {
          "output_type": "stream",
          "name": "stdout",
          "text": [
            "----------------------------------------------------------------\n",
            "        Layer (type)               Output Shape         Param #\n",
            "================================================================\n",
            "            Conv2d-1           [-1, 32, 26, 26]             320\n",
            "              ReLU-2           [-1, 32, 26, 26]               0\n",
            "       BatchNorm2d-3           [-1, 32, 26, 26]              64\n",
            "         MaxPool2d-4           [-1, 32, 13, 13]               0\n",
            "            Conv2d-5           [-1, 32, 11, 11]           9,248\n",
            "              ReLU-6           [-1, 32, 11, 11]               0\n",
            "       BatchNorm2d-7           [-1, 32, 11, 11]              64\n",
            "         MaxPool2d-8             [-1, 32, 5, 5]               0\n",
            "           Flatten-9                  [-1, 800]               0\n",
            "         Backbone-10                  [-1, 800]               0\n",
            "             Neck-11  [[-1, 800], [-1, 800], [-1, 800]]               0\n",
            "           Detect-12                  [-1, 800]               0\n",
            "================================================================\n",
            "Total params: 9,696\n",
            "Trainable params: 9,696\n",
            "Non-trainable params: 0\n",
            "----------------------------------------------------------------\n",
            "Input size (MB): 0.00\n",
            "Forward/backward pass size (MB): 3906.90\n",
            "Params size (MB): 0.04\n",
            "Estimated Total Size (MB): 3906.94\n",
            "----------------------------------------------------------------\n"
          ]
        }
      ]
    }
  ]
}