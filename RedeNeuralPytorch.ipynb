{
  "nbformat": 4,
  "nbformat_minor": 0,
  "metadata": {
    "colab": {
      "name": "RedeNeuralPytorch.ipynb",
      "provenance": [],
      "authorship_tag": "ABX9TyOItw4jkcusRYy3juUsl1RH",
      "include_colab_link": true
    },
    "kernelspec": {
      "name": "python3",
      "display_name": "Python 3"
    },
    "language_info": {
      "name": "python"
    }
  },
  "cells": [
    {
      "cell_type": "markdown",
      "metadata": {
        "id": "view-in-github",
        "colab_type": "text"
      },
      "source": [
        "<a href=\"https://colab.research.google.com/github/pipecode-br/deep_learning_pytorch/blob/main/RedeNeuralPytorch.ipynb\" target=\"_parent\"><img src=\"https://colab.research.google.com/assets/colab-badge.svg\" alt=\"Open In Colab\"/></a>"
      ]
    },
    {
      "cell_type": "code",
      "source": [
        "#Import Pytorch CNN e base de dados\n",
        "import torch\n",
        "import torch.nn as nn\n",
        "from torch import optim\n",
        "\n",
        "# import database\n",
        "from torchvision import datasets\n",
        "import torchvision.transforms as transforms\n",
        "\n",
        "# import utils\n",
        "import numpy as np\n",
        "import matplotlib.pyplot as plt\n",
        "\n",
        "torch.__version__"
      ],
      "metadata": {
        "colab": {
          "base_uri": "https://localhost:8080/",
          "height": 35
        },
        "id": "hEpjcAJLkkx5",
        "outputId": "aaf9bb31-8322-4cd6-ad5c-bee764399dc4"
      },
      "execution_count": null,
      "outputs": [
        {
          "output_type": "execute_result",
          "data": {
            "text/plain": [
              "'1.10.0+cu111'"
            ],
            "application/vnd.google.colaboratory.intrinsic+json": {
              "type": "string"
            }
          },
          "metadata": {},
          "execution_count": 2
        }
      ]
    },
    {
      "cell_type": "code",
      "source": [
        "# Sempre o mesmo valores\n",
        "torch.manual_seed(123)"
      ],
      "metadata": {
        "colab": {
          "base_uri": "https://localhost:8080/"
        },
        "id": "ulgbXE90le-V",
        "outputId": "e10299fa-9060-4a70-cc7f-a2b5ef5e1a4c"
      },
      "execution_count": null,
      "outputs": [
        {
          "output_type": "execute_result",
          "data": {
            "text/plain": [
              "<torch._C.Generator at 0x7f1d45c0bad0>"
            ]
          },
          "metadata": {},
          "execution_count": 3
        }
      ]
    },
    {
      "cell_type": "code",
      "source": [
        "#criar transformador\n",
        "transform = transforms.ToTensor()\n",
        "\n",
        "#baixar base de dados\n",
        "train = datasets.MNIST(root='.',train=True,download=True,transform=transform)\n",
        "test = datasets.MNIST(root='.',train=False,download=True,transform=transform)"
      ],
      "metadata": {
        "id": "m_aWPrsUlqDr"
      },
      "execution_count": null,
      "outputs": []
    },
    {
      "cell_type": "code",
      "source": [
        "print(train.data.shape)\n",
        "print(train.targets)"
      ],
      "metadata": {
        "colab": {
          "base_uri": "https://localhost:8080/"
        },
        "id": "vgV4XoFSmiRr",
        "outputId": "1f18ebeb-4c03-40ec-f61d-86f8618cb73d"
      },
      "execution_count": null,
      "outputs": [
        {
          "output_type": "stream",
          "name": "stdout",
          "text": [
            "torch.Size([60000, 28, 28])\n",
            "tensor([5, 0, 4,  ..., 5, 6, 8])\n"
          ]
        }
      ]
    },
    {
      "cell_type": "code",
      "source": [
        "# criar loader\n",
        "train_loader = torch.utils.data.DataLoader(train,batch_size=128)\n",
        "test_loader = torch.utils.data.DataLoader(test,batch_size=128)"
      ],
      "metadata": {
        "id": "YRafJFdMnZaN"
      },
      "execution_count": null,
      "outputs": []
    },
    {
      "cell_type": "code",
      "source": [
        "imagem = next(iter(train_loader))[0][120].view(28,28)#(1 1 28 28)\n",
        "plt.imshow(imagem,cmap='gray')\n"
      ],
      "metadata": {
        "colab": {
          "base_uri": "https://localhost:8080/",
          "height": 282
        },
        "id": "AITiiUIvpEYp",
        "outputId": "7ffb1b45-d1ec-4c6f-899f-1d4c52ae3e2b"
      },
      "execution_count": null,
      "outputs": [
        {
          "output_type": "execute_result",
          "data": {
            "text/plain": [
              "<matplotlib.image.AxesImage at 0x7f677d946590>"
            ]
          },
          "metadata": {},
          "execution_count": 47
        },
        {
          "output_type": "display_data",
          "data": {
            "text/plain": [
              "<Figure size 432x288 with 1 Axes>"
            ],
            "image/png": "[encoded data removed]"
          },
          "metadata": {
            "needs_background": "light"
          }
        }
      ]
    },
    {
      "cell_type": "code",
      "source": [
        "plt.hist(imagem.view(-1))"
      ],
      "metadata": {
        "colab": {
          "base_uri": "https://localhost:8080/",
          "height": 352
        },
        "id": "NaSk3ROvpHA_",
        "outputId": "3ae6d944-047d-4181-d4a0-d14007950d4a"
      },
      "execution_count": null,
      "outputs": [
        {
          "output_type": "execute_result",
          "data": {
            "text/plain": [
              "(array([592.,   9.,  12.,  10.,   7.,   9.,   5.,   8.,   8., 124.]),\n",
              " array([0.        , 0.09960784, 0.19921568, 0.29882354, 0.39843136,\n",
              "        0.49803922, 0.5976471 , 0.6972549 , 0.7968627 , 0.8964706 ,\n",
              "        0.99607843], dtype=float32),\n",
              " <a list of 10 Patch objects>)"
            ]
          },
          "metadata": {},
          "execution_count": 50
        },
        {
          "output_type": "display_data",
          "data": {
            "text/plain": [
              "<Figure size 432x288 with 1 Axes>"
            ],
            "image/png": "[encoded data removed]"
          },
          "metadata": {
            "needs_background": "light"
          }
        }
      ]
    },
    {
      "cell_type": "code",
      "execution_count": null,
      "metadata": {
        "id": "NPGNkGyskAzJ"
      },
      "outputs": [],
      "source": [
        "class classificador(nn.Module):\n",
        "  def __init__(self):\n",
        "    super().__init__()\n",
        "    self.conv1 = nn.Conv2d(in_channels=1,out_channels=32,kernel_size=(3,3))\n",
        "    self.conv2 = nn.Conv2d(in_channels=32,out_channels=32,kernel_size=(3,3))\n",
        "    self.activation = nn.ReLU()\n",
        "    self.bnorm = nn.BatchNorm2d(num_features=32)\n",
        "    self.pool = nn.MaxPool2d(kernel_size=(2,2))\n",
        "    self.flatten = nn.Flatten()\n",
        "\n",
        "    #800\n",
        "    self.linear1 = nn.Linear(in_features=32*5*5,out_features=128)\n",
        "    self.linear2 = nn.Linear(128,128)\n",
        "    self.output = nn.Linear(128,10)\n",
        "    self.dropout = nn.Dropout(p=0.2)\n",
        "\n",
        "  def forward(self,X):\n",
        "    X = self.pool(self.bnorm(self.activation(self.conv1(X))))\n",
        "    X = self.pool(self.bnorm(self.activation(self.conv2(X))))\n",
        "    X = self.flatten(X)\n",
        "\n",
        "    X = self.dropout(self.activation(self.linear1(X)))\n",
        "    X = self.dropout(self.activation(self.linear2(X)))\n",
        "    X = self.output(X)\n",
        "\n",
        "    return X\n",
        "\n"
      ]
    },
    {
      "cell_type": "code",
      "source": [
        "net = classificador()\n",
        "criterion = nn.CrossEntropyLoss()\n",
        "optimizer = optim.Adam(net.parameters())\n",
        "print(net.__dict__['_modules'])\n",
        "print(list(net.modules()))"
      ],
      "metadata": {
        "colab": {
          "base_uri": "https://localhost:8080/"
        },
        "id": "6VTpc_A8kfny",
        "outputId": "81d2caf7-4bc0-4f0c-9b16-fcfe1d074909"
      },
      "execution_count": null,
      "outputs": [
        {
          "output_type": "stream",
          "name": "stdout",
          "text": [
            "OrderedDict([('conv1', Conv2d(1, 32, kernel_size=(3, 3), stride=(1, 1))), ('conv2', Conv2d(32, 32, kernel_size=(3, 3), stride=(1, 1))), ('activation', ReLU()), ('bnorm', BatchNorm2d(32, eps=1e-05, momentum=0.1, affine=True, track_running_stats=True)), ('pool', MaxPool2d(kernel_size=(2, 2), stride=(2, 2), padding=0, dilation=1, ceil_mode=False)), ('flatten', Flatten(start_dim=1, end_dim=-1)), ('linear1', Linear(in_features=800, out_features=128, bias=True)), ('linear2', Linear(in_features=128, out_features=128, bias=True)), ('output', Linear(in_features=128, out_features=10, bias=True)), ('dropout', Dropout(p=0.2, inplace=False))])\n",
            "[classificador(\n",
            "  (conv1): Conv2d(1, 32, kernel_size=(3, 3), stride=(1, 1))\n",
            "  (conv2): Conv2d(32, 32, kernel_size=(3, 3), stride=(1, 1))\n",
            "  (activation): ReLU()\n",
            "  (bnorm): BatchNorm2d(32, eps=1e-05, momentum=0.1, affine=True, track_running_stats=True)\n",
            "  (pool): MaxPool2d(kernel_size=(2, 2), stride=(2, 2), padding=0, dilation=1, ceil_mode=False)\n",
            "  (flatten): Flatten(start_dim=1, end_dim=-1)\n",
            "  (linear1): Linear(in_features=800, out_features=128, bias=True)\n",
            "  (linear2): Linear(in_features=128, out_features=128, bias=True)\n",
            "  (output): Linear(in_features=128, out_features=10, bias=True)\n",
            "  (dropout): Dropout(p=0.2, inplace=False)\n",
            "), Conv2d(1, 32, kernel_size=(3, 3), stride=(1, 1)), Conv2d(32, 32, kernel_size=(3, 3), stride=(1, 1)), ReLU(), BatchNorm2d(32, eps=1e-05, momentum=0.1, affine=True, track_running_stats=True), MaxPool2d(kernel_size=(2, 2), stride=(2, 2), padding=0, dilation=1, ceil_mode=False), Flatten(start_dim=1, end_dim=-1), Linear(in_features=800, out_features=128, bias=True), Linear(in_features=128, out_features=128, bias=True), Linear(in_features=128, out_features=10, bias=True), Dropout(p=0.2, inplace=False)]\n"
          ]
        }
      ]
    },
    {
      "cell_type": "code",
      "source": [
        "from torchsummary import summary\n",
        "\n",
        "summary(net, (1 , 28, 28))"
      ],
      "metadata": {
        "colab": {
          "base_uri": "https://localhost:8080/"
        },
        "id": "eR2tbeGPvi8I",
        "outputId": "3908c5dd-7e66-47e3-911f-ccbe69c225cb"
      },
      "execution_count": null,
      "outputs": [
        {
          "output_type": "stream",
          "name": "stdout",
          "text": [
            "----------------------------------------------------------------\n",
            "        Layer (type)               Output Shape         Param #\n",
            "================================================================\n",
            "            Conv2d-1           [-1, 32, 26, 26]             320\n",
            "              ReLU-2           [-1, 32, 26, 26]               0\n",
            "       BatchNorm2d-3           [-1, 32, 26, 26]              64\n",
            "         MaxPool2d-4           [-1, 32, 13, 13]               0\n",
            "            Conv2d-5           [-1, 32, 11, 11]           9,248\n",
            "              ReLU-6           [-1, 32, 11, 11]               0\n",
            "       BatchNorm2d-7           [-1, 32, 11, 11]              64\n",
            "         MaxPool2d-8             [-1, 32, 5, 5]               0\n",
            "           Flatten-9                  [-1, 800]               0\n",
            "           Linear-10                  [-1, 128]         102,528\n",
            "             ReLU-11                  [-1, 128]               0\n",
            "          Dropout-12                  [-1, 128]               0\n",
            "           Linear-13                  [-1, 128]          16,512\n",
            "             ReLU-14                  [-1, 128]               0\n",
            "          Dropout-15                  [-1, 128]               0\n",
            "           Linear-16                   [-1, 10]           1,290\n",
            "================================================================\n",
            "Total params: 130,026\n",
            "Trainable params: 130,026\n",
            "Non-trainable params: 0\n",
            "----------------------------------------------------------------\n",
            "Input size (MB): 0.00\n",
            "Forward/backward pass size (MB): 0.64\n",
            "Params size (MB): 0.50\n",
            "Estimated Total Size (MB): 1.14\n",
            "----------------------------------------------------------------\n"
          ]
        }
      ]
    },
    {
      "cell_type": "code",
      "source": [
        "class Backbone(nn.Module):\n",
        "  def __init__(self):\n",
        "    super().__init__()\n",
        "    self.conv1 = nn.Conv2d(in_channels=1,out_channels=32,kernel_size=(3,3))\n",
        "    self.conv2 = nn.Conv2d(in_channels=32,out_channels=32,kernel_size=(3,3))\n",
        "    self.activation = nn.ReLU()\n",
        "    self.bnorm = nn.BatchNorm2d(num_features=32)\n",
        "    self.pool = nn.MaxPool2d(kernel_size=(2,2))\n",
        "    self.flatten = nn.Flatten()\n",
        "\n",
        "  def forward(self,X):\n",
        "    X = self.pool(self.bnorm(self.activation(self.conv1(X))))\n",
        "    X = self.pool(self.bnorm(self.activation(self.conv2(X))))\n",
        "    X = self.flatten(X)\n",
        "    return X"
      ],
      "metadata": {
        "id": "6kV6wXHr2ltc"
      },
      "execution_count": null,
      "outputs": []
    },
    {
      "cell_type": "code",
      "source": [
        "class Neck(nn.Module):\n",
        "  def __init__(self):\n",
        "    super().__init__()\n",
        "\n",
        "  def forward(self,X):\n",
        "    return X,X,X"
      ],
      "metadata": {
        "id": "t7BK-XMyyy_x"
      },
      "execution_count": null,
      "outputs": []
    },
    {
      "cell_type": "code",
      "source": [
        "class Detect(nn.Module):\n",
        "  def __init__(self) -> None:\n",
        "      super().__init__()\n",
        "\n",
        "  def forward(self,X,Y,Z):\n",
        "    return X"
      ],
      "metadata": {
        "id": "0NT9vOvw3ooc"
      },
      "execution_count": null,
      "outputs": []
    },
    {
      "cell_type": "code",
      "source": [
        "class FiberNeuralNetwork(nn.Module):\n",
        "    def __init__(self) -> None:\n",
        "      super().__init__()\n",
        "      self.backbone = Backbone()\n",
        "      self.neck = Neck()\n",
        "      self.detect= Detect()\n",
        "\n",
        "    def forward(self,X):\n",
        "      X = self.backbone(X)\n",
        "      X,Y,Z= self.neck(X)\n",
        "      X = self.detect(X,Y,Z)\n",
        "      return X"
      ],
      "metadata": {
        "id": "qlVqqE8QzxJH"
      },
      "execution_count": null,
      "outputs": []
    },
    {
      "cell_type": "code",
      "source": [
        "net2 = FiberNeuralNetwork()\n",
        "\n",
        "from torchsummary import summary\n",
        "\n",
        "summary(net2, (1 , 28, 28))"
      ],
      "metadata": {
        "colab": {
          "base_uri": "https://localhost:8080/"
        },
        "id": "BiOKNOd84WAH",
        "outputId": "cee4d1a7-ad4f-4fa0-f750-ff83e921c51e"
      },
      "execution_count": null,
      "outputs": [
        {
          "output_type": "stream",
          "name": "stdout",
          "text": [
            "----------------------------------------------------------------\n",
            "        Layer (type)               Output Shape         Param #\n",
            "================================================================\n",
            "            Conv2d-1           [-1, 32, 26, 26]             320\n",
            "              ReLU-2           [-1, 32, 26, 26]               0\n",
            "       BatchNorm2d-3           [-1, 32, 26, 26]              64\n",
            "         MaxPool2d-4           [-1, 32, 13, 13]               0\n",
            "            Conv2d-5           [-1, 32, 11, 11]           9,248\n",
            "              ReLU-6           [-1, 32, 11, 11]               0\n",
            "       BatchNorm2d-7           [-1, 32, 11, 11]              64\n",
            "         MaxPool2d-8             [-1, 32, 5, 5]               0\n",
            "           Flatten-9                  [-1, 800]               0\n",
            "         Backbone-10                  [-1, 800]               0\n",
            "             Neck-11  [[-1, 800], [-1, 800], [-1, 800]]               0\n",
            "           Detect-12                  [-1, 800]               0\n",
            "================================================================\n",
            "Total params: 9,696\n",
            "Trainable params: 9,696\n",
            "Non-trainable params: 0\n",
            "----------------------------------------------------------------\n",
            "Input size (MB): 0.00\n",
            "Forward/backward pass size (MB): 3906.90\n",
            "Params size (MB): 0.04\n",
            "Estimated Total Size (MB): 3906.94\n",
            "----------------------------------------------------------------\n"
          ]
        }
      ]
    }
  ]
}